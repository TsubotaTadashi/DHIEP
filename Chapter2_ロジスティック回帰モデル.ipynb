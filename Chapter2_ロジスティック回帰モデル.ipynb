{
 "cells": [
  {
   "cell_type": "markdown",
   "metadata": {},
   "source": [
    "### --------------------------------------------------------------------------------------------------\n",
    "## 社会変革型 医療データサイエンティスト育成講座\n",
    "# Chapter 2: ロジスティック回帰モデル\n",
    "### --------------------------------------------------------------------------------------------------"
   ]
  },
  {
   "cell_type": "markdown",
   "metadata": {},
   "source": [
    "#### 1. sklearnを用いたロジスティック回帰モデル構築"
   ]
  },
  {
   "cell_type": "code",
   "execution_count": null,
   "metadata": {},
   "outputs": [],
   "source": [
    "# データのロード\n",
    "import pandas as pd\n",
    "\n",
    "# ホームディレクトリにデータを格納していれば、フォルダの指定は必要ありません\n",
    "bace_data = pd.read_csv('~/bace_data.csv')\n",
    "bace_data.head()"
   ]
  },
  {
   "cell_type": "code",
   "execution_count": null,
   "metadata": {},
   "outputs": [],
   "source": [
    "# 判別モデルを構築するため、目的変数として'class'（結合=1、非結合=0の二値が入っている）を使用します\n",
    "# 説明変数としては、'RB'(rotable bond)および'HeavyAtomCount'を使用してみます\n",
    "\n",
    "import numpy as np\n",
    "X = np.array(bace_data[['RB','HeavyAtomCount']])\n",
    "y = np.array(bace_data[['class']])"
   ]
  },
  {
   "cell_type": "code",
   "execution_count": null,
   "metadata": {},
   "outputs": [],
   "source": [
    "# scikit-learnによるモデル構築\n",
    "\n",
    "\n",
    "# インスタンスの作成\n",
    "\n",
    "\n",
    "# データのフィッティング\n",
    "\n",
    "\n",
    "# 回帰係数の出力\n",
    "print('偏回帰係数 (RB): ', model.coef_[0][0])\n",
    "print('偏回帰係数 (HeavyAtom): ', model.coef_[0][1])\n",
    "print('切片: ', model.intercept_[0])"
   ]
  },
  {
   "cell_type": "code",
   "execution_count": null,
   "metadata": {},
   "outputs": [],
   "source": [
    "# (参考) 結果の可視化\n",
    "import matplotlib.pyplot as plt\n",
    "from mpl_toolkits.mplot3d import Axes3D\n",
    "%matplotlib inline\n",
    "\n",
    "# 散布図のための関数定義\n",
    "def plot_scatter(df_pos,df_neg,cols=['RB','HeavyAtomCount'],dsize=10):\n",
    "    plt.scatter(df_pos[cols[0]],df_pos[cols[1]],\n",
    "                c='orange',\n",
    "                s=dsize,\n",
    "                label='positive',\n",
    "               )\n",
    "    plt.scatter(df_neg[cols[0]],df_neg[cols[1]],\n",
    "                c='blue',\n",
    "                s=dsize,\n",
    "                label='negative',\n",
    "                alpha=0.3, # そのままだとドットが重なって見にくいため、透明度を調整\n",
    "               )\n",
    "\n",
    "    # legendを可視化\n",
    "    plt.legend()\n",
    "\n",
    "# 変数定義\n",
    "data_rb = bace_data['RB']\n",
    "data_ha = bace_data['HeavyAtomCount']\n",
    "df_pos = bace_data[bace_data['class']==1]\n",
    "df_neg = bace_data[bace_data['class']==0]\n",
    "\n",
    "# プロットのための座標を作成します\n",
    "rb = np.linspace(np.min(data_rb),np.max(data_rb),51)\n",
    "ha = np.linspace(np.min(data_ha),np.max(data_ha),51)\n",
    "\n",
    "# age x BMI の２次元平面の各座標において、regressionで求めた関数から陽性率を計算します\n",
    "prediction = np.zeros([51,51])\n",
    "for i in range(51):\n",
    "    for j in range(51):\n",
    "        prediction[i,j] = model.predict_proba([[rb[i],ha[j]]])[0,1]\n",
    "\n",
    "# 陽性率の関数とデータの散布図を同一グラフ上に描画\n",
    "extent = [np.min(data_rb), np.max(data_rb), np.min(data_ha), np.max(data_ha)]\n",
    "fig = plt.figure(figsize=[9,6])\n",
    "ax = fig.add_subplot(1,1,1)\n",
    "plot_scatter(df_pos,df_neg,dsize=15)\n",
    "im = ax.imshow(prediction.T,\n",
    "               extent=extent,\n",
    "               origin='lower',\n",
    "               cmap='pink'\n",
    "              )\n",
    "ax.set_xlabel('RB')\n",
    "ax.set_ylabel('HeavyAtomCount')\n",
    "ax.set_ylim([10,60])\n",
    "fig.colorbar(im)\n",
    "plt.show()"
   ]
  },
  {
   "cell_type": "markdown",
   "metadata": {},
   "source": [
    "#### おまけ. シンプソンパラドックス"
   ]
  },
  {
   "cell_type": "code",
   "execution_count": null,
   "metadata": {},
   "outputs": [],
   "source": [
    "# 関数定義\n",
    "def create_df(n, rate, labels):\n",
    "    df = pd.DataFrame(data={'性別':[labels[0] for i in range(n)], \n",
    "                         '受験学部':[labels[1] for i in range(n)],\n",
    "                         '合否':[1 for i in range(np.int(np.round(n*rate)))] + [0 for i in range(np.int(np.round(n*(1-rate))))]})\n",
    "    return df"
   ]
  },
  {
   "cell_type": "code",
   "execution_count": null,
   "metadata": {},
   "outputs": [],
   "source": [
    "# データを作成（ウェブ上で見つけられなかったため、数値を入れつつ自作する）\n",
    "\n",
    "w_A = create_df(108,0.82,['w','A'])\n",
    "w_B = create_df(25,0.68,['w','B'])\n",
    "w_C = create_df(593,0.34,['w','C'])\n",
    "w_D = create_df(375,0.35,['w','D'])\n",
    "w_E = create_df(393,0.24,['w','E'])\n",
    "w_F = create_df(341,0.07,['w','F'])\n",
    "\n",
    "m_A = create_df(825,0.619,['m','A'])\n",
    "m_B = create_df(560,0.63,['m','B'])\n",
    "m_C = create_df(325,0.37,['m','C'])\n",
    "m_D = create_df(417,0.33,['m','D'])\n",
    "m_E = create_df(191,0.28,['m','E'])\n",
    "m_F = create_df(272,0.06,['m','F'])\n",
    "\n",
    "dataset = pd.concat([w_A,w_B,w_C,w_D,w_E,w_F,m_A,m_B,m_C,m_D,m_E,m_F],ignore_index=True).reset_index(drop=True)"
   ]
  },
  {
   "cell_type": "code",
   "execution_count": null,
   "metadata": {},
   "outputs": [],
   "source": [
    "# データセットの行をシャッフルし、中身を確認\n",
    "dataset.sample(frac=1).reset_index(drop=True).head(10)"
   ]
  },
  {
   "cell_type": "code",
   "execution_count": null,
   "metadata": {},
   "outputs": [],
   "source": [
    "# 全体の合格率\n",
    "w = dataset[dataset['性別']=='w']\n",
    "m = dataset[dataset['性別']=='m']\n",
    "print('女性の人数は%s人で、合格率は%sパーセント' % (len(w), np.round(100*len(w[w['合否']==1])/len(w),1)))\n",
    "print('男性の人数は%s人で、合格率は%sパーセント' % (len(m), np.round(100*len(m[m['合否']==1])/len(m),1)))"
   ]
  },
  {
   "cell_type": "code",
   "execution_count": null,
   "metadata": {},
   "outputs": [],
   "source": [
    "# 性別および受験学部をダミー変数に変換\n",
    "dataset_dum = pd.get_dummies(dataset,prefix=['性別','受験学部'], drop_first=True)\n",
    "\n",
    "# 性別は女性が1、男性が0\n",
    "# 受験学部は、B~Fがそれぞれのカラムでラベルされており、全て0であればAを表す\n",
    "dataset_dum.head()"
   ]
  },
  {
   "cell_type": "code",
   "execution_count": null,
   "metadata": {},
   "outputs": [],
   "source": [
    "# scikit-learnによるモデル構築\n",
    "from sklearn.linear_model import LogisticRegression\n",
    "\n",
    "# インスタンスの作成\n",
    "logisticModel = LogisticRegression()\n",
    "\n",
    "# データのフィッティング\n",
    "logisticModel.fit(dataset_dum.iloc[:,1:],dataset_dum['合否'])\n",
    "\n",
    "# 回帰係数の出力\n",
    "print('男性に対する女性のオッズ比: ',np.exp(logisticModel.coef_[0][0]))\n",
    "print('その他の係数: ', logisticModel.coef_[0][1:])"
   ]
  },
  {
   "cell_type": "markdown",
   "metadata": {},
   "source": [
    "・　「受験学部」という交絡因子の影響を除いた場合、女性の方が合格率がわずかに高いという結果になった。  \n",
    "・　また、その他の係数が全てマイナスであることから、学部Aへの合格率が最も高く、学部Fが最も低いことがわかる。"
   ]
  }
 ],
 "metadata": {
  "kernelspec": {
   "display_name": "Python 3",
   "language": "python",
   "name": "python3"
  },
  "language_info": {
   "codemirror_mode": {
    "name": "ipython",
    "version": 3
   },
   "file_extension": ".py",
   "mimetype": "text/x-python",
   "name": "python",
   "nbconvert_exporter": "python",
   "pygments_lexer": "ipython3",
   "version": "3.7.1"
  },
  "toc": {
   "base_numbering": 1,
   "nav_menu": {},
   "number_sections": false,
   "sideBar": true,
   "skip_h1_title": false,
   "title_cell": "Table of Contents",
   "title_sidebar": "Contents",
   "toc_cell": false,
   "toc_position": {},
   "toc_section_display": true,
   "toc_window_display": true
  },
  "varInspector": {
   "cols": {
    "lenName": 16,
    "lenType": 16,
    "lenVar": 40
   },
   "kernels_config": {
    "python": {
     "delete_cmd_postfix": "",
     "delete_cmd_prefix": "del ",
     "library": "var_list.py",
     "varRefreshCmd": "print(var_dic_list())"
    },
    "r": {
     "delete_cmd_postfix": ") ",
     "delete_cmd_prefix": "rm(",
     "library": "var_list.r",
     "varRefreshCmd": "cat(var_dic_list()) "
    }
   },
   "types_to_exclude": [
    "module",
    "function",
    "builtin_function_or_method",
    "instance",
    "_Feature"
   ],
   "window_display": false
  }
 },
 "nbformat": 4,
 "nbformat_minor": 2
}
