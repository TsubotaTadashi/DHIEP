{
 "cells": [
  {
   "cell_type": "markdown",
   "metadata": {},
   "source": [
    "### ------------------------------------------------------------------------------------------------------\n",
    "## 社会変革型 医療データサイエンティスト育成講座\n",
    "# Chapter 1: 重回帰モデル\n",
    "### ------------------------------------------------------------------------------------------------------"
   ]
  },
  {
   "cell_type": "markdown",
   "metadata": {},
   "source": [
    "#### 1. ライブラリ使用方法"
   ]
  },
  {
   "cell_type": "code",
   "execution_count": null,
   "metadata": {},
   "outputs": [],
   "source": [
    "# データのロード\n",
    "# データはpandasのDataFrameに入れます\n",
    "# DataFrameはPythonにおける基本中の基本ですが、オプションが多く使いこなすのはなかなか難しいです\n",
    "\n",
    "# まずは\"import\"によってpandasライブラリを使用できる状態にします\n",
    "# \"as pd\"の部分は必ずしもpdではなくてもOKですが、pdという命名がデファクトスタンダードになっています\n",
    "import pandas as pd\n",
    "\n",
    "# pandasの中に入っている関数であるread_csvを使用して、データをロードします\n",
    "# ホームディレクトリにデータを格納していれば、フォルダの指定は必要ありません\n",
    "bace_data = pd.read_csv('~/bace_data.csv')\n",
    "\n",
    "# DataFrameの中身をインスペクトするために、しばしば\"head()\"を用います\n",
    "bace_data.head()"
   ]
  },
  {
   "cell_type": "code",
   "execution_count": null,
   "metadata": {},
   "outputs": [],
   "source": [
    "# 説明変数として分子量 (MW)およびAlogP, 目的変数としてpIC50を使用します\n",
    "# こちらも頻用される数値計算用ライブラリであるnumpyのアレイに変換しておきます\n",
    "import numpy as np\n",
    "X = np.array(bace_data[['MW','AlogP']])\n",
    "y = np.array(bace_data['pIC50'])"
   ]
  },
  {
   "cell_type": "code",
   "execution_count": null,
   "metadata": {},
   "outputs": [],
   "source": [
    "# X（説明変数）とy（目的変数）に何が入っているか確認します\n",
    "print('X: ', X)\n",
    "print('y: ', y)"
   ]
  },
  {
   "cell_type": "code",
   "execution_count": null,
   "metadata": {},
   "outputs": [],
   "source": [
    "# 可視化のためのライブラリであるmatplotlibを用いてデータを可視化します\n",
    "import matplotlib.pyplot as plt\n",
    "from mpl_toolkits.mplot3d import Axes3D\n",
    "%matplotlib inline\n",
    "\n",
    "fig = plt.figure(figsize=[12,9]) \n",
    "ax = fig.add_subplot(111, projection='3d')\n",
    "ax.scatter(X[:,0],X[:,1],y)\n",
    "ax.set_xlabel('MW')\n",
    "ax.set_ylabel('AlogP')\n",
    "ax.set_zlabel('pIC50')\n",
    "plt.show()"
   ]
  },
  {
   "cell_type": "code",
   "execution_count": null,
   "metadata": {},
   "outputs": [],
   "source": [
    "# sklearn.linear_modelによる線形回帰モデル構築\n",
    "\n",
    "\n",
    "# インスタンスの作成\n",
    "\n",
    "\n",
    "# データのフィッティング\n",
    "\n",
    "\n",
    "# 結果の出力\n",
    "print('偏回帰係数 (MW): ', )\n",
    "print('偏回帰係数 (AlogP): ', )\n",
    "print('切片: ', )"
   ]
  },
  {
   "cell_type": "code",
   "execution_count": null,
   "metadata": {},
   "outputs": [],
   "source": [
    "# ライブラリの詳細について調べたい場合には、ウェブページを見るか以下のように?でヘルプを表示します\n",
    "?LinearRegression"
   ]
  },
  {
   "cell_type": "code",
   "execution_count": null,
   "metadata": {},
   "outputs": [],
   "source": [
    "# (参考) 回帰の結果の可視化\n",
    "x1 = np.linspace(0,1400,100)\n",
    "x2 = np.linspace(-4,9,100)\n",
    "X1,X2 = np.meshgrid(x1,x2)\n",
    "yy = np.zeros([100,100])\n",
    "for i,xx1 in enumerate(x1):\n",
    "    for j,xx2 in enumerate(x2):\n",
    "        yy[i,j] = model.intercept_ + xx1*model.coef_[0] \n",
    "        + xx2*model.coef_[1]\n",
    "        \n",
    "fig = plt.figure(figsize=[8,6]) \n",
    "ax = fig.add_subplot(111, projection='3d')\n",
    "ax.plot_surface(X1, X2, yy, color='r', alpha=0.3)\n",
    "ax.scatter(X[:,0],X[:,1],y)\n",
    "ax.set_xlabel('MW')\n",
    "ax.set_ylabel('AlogP')\n",
    "ax.set_zlabel('pIC50')\n",
    "plt.show()"
   ]
  },
  {
   "cell_type": "code",
   "execution_count": null,
   "metadata": {},
   "outputs": [],
   "source": [
    "# (参考) statsmodelsによる線形回帰モデル構築\n",
    "import statsmodels.api as sm\n",
    "\n",
    "# \"add_constant\"を行う必要があります\n",
    "X = sm.add_constant(X)\n",
    "\n",
    "# OLSはordinary least squareのことです\n",
    "mod = sm.OLS(y, X)\n",
    "res = mod.fit()\n",
    "\n",
    "# summary機能があるのでとても便利！\n",
    "print(res.summary())"
   ]
  },
  {
   "cell_type": "markdown",
   "metadata": {},
   "source": [
    "　"
   ]
  },
  {
   "cell_type": "markdown",
   "metadata": {},
   "source": [
    "#### 2. データ標準化"
   ]
  },
  {
   "cell_type": "code",
   "execution_count": null,
   "metadata": {},
   "outputs": [],
   "source": [
    "# 説明変数と目的変数の定義\n",
    "X = np.array(bace_data[['MW','AlogP']])\n",
    "y = np.array(bace_data[['pIC50']]) # 2次元データとする必要がある"
   ]
  },
  {
   "cell_type": "code",
   "execution_count": null,
   "metadata": {},
   "outputs": [],
   "source": [
    "# StandardScalerを使用したデータの標準化\n",
    "from sklearn.preprocessing import StandardScaler\n",
    "scaler = StandardScaler()\n",
    "X_st = scaler.fit_transform(X)\n",
    "y_st = scaler.fit_transform(y)"
   ]
  },
  {
   "cell_type": "code",
   "execution_count": null,
   "metadata": {},
   "outputs": [],
   "source": [
    "# (参考) ヒストグラムを用いた標準化の確認\n",
    "import matplotlib.pyplot as plt\n",
    "%matplotlib inline\n",
    "fig, ax = plt.subplots(1,2)\n",
    "ax[0].hist(X[:,0])\n",
    "ax[0].set_xlabel('before st')\n",
    "ax[1].hist(X_st[:,0])\n",
    "ax[1].set_xlabel('after st')\n",
    "plt.show()"
   ]
  },
  {
   "cell_type": "code",
   "execution_count": null,
   "metadata": {},
   "outputs": [],
   "source": [
    "# (参考) 標準化なしのデータで線形モデル構築\n",
    "import statsmodels.api as sm\n",
    "X_c = sm.add_constant(X)\n",
    "mod = sm.OLS(y,X_c)\n",
    "res = mod.fit()\n",
    "print(res.summary())"
   ]
  },
  {
   "cell_type": "code",
   "execution_count": null,
   "metadata": {},
   "outputs": [],
   "source": [
    "# (参考) 標準化したデータでモデル構築\n",
    "X_st_c = sm.add_constant(X_st)\n",
    "mod = sm.OLS(y_st,X_st_c)\n",
    "res = mod.fit()\n",
    "print(res.summary())"
   ]
  },
  {
   "cell_type": "markdown",
   "metadata": {},
   "source": [
    "　"
   ]
  },
  {
   "cell_type": "markdown",
   "metadata": {},
   "source": [
    "#### (おまけ) 多重共線性"
   ]
  },
  {
   "cell_type": "code",
   "execution_count": null,
   "metadata": {},
   "outputs": [],
   "source": [
    "# サンプル生成関数の定義\n",
    "\n",
    "def generate_sample_2d(params,nsample=50,xrange=[[0,10],[0,10]],collinear=False):\n",
    "    rsample = np.zeros([nsample,3])\n",
    "    for i in range(nsample):\n",
    "        err = np.random.normal(0,params['sigma'],1)\n",
    "        if collinear:\n",
    "            err_collin = np.random.normal(0,params['sigma_collin'],1)\n",
    "            x_1 = np.random.uniform(xrange[0][0],xrange[0][1],1)\n",
    "            x_2 = x_1*params['b_1_collin']+err_collin          \n",
    "        else:\n",
    "            x_1 = np.random.uniform(xrange[0][0],xrange[0][1],1)\n",
    "            x_2 = np.random.uniform(xrange[1][0],xrange[1][1],1)\n",
    "        y = params['b_0'] + params['b_1']*x_1 + params['b_2']*x_2 + err\n",
    "        rsample[i,:] = y[0],x_1,x_2\n",
    "        \n",
    "    return rsample"
   ]
  },
  {
   "cell_type": "code",
   "execution_count": null,
   "metadata": {},
   "outputs": [],
   "source": [
    "# 試しにプロット\n",
    "\n",
    "from mpl_toolkits.mplot3d import Axes3D\n",
    "\n",
    "params = {'b_0': 3,\n",
    "          'b_1': 2.5,\n",
    "          'b_2': 1.2,\n",
    "          'sigma': 10\n",
    "          }\n",
    "\n",
    "rsample = generate_sample_2d(params)\n",
    "fig = plt.figure() \n",
    "ax = fig.add_subplot(111, projection='3d')\n",
    "ax.scatter(rsample[:,1],rsample[:,2],rsample[:,0])\n",
    "plt.show()"
   ]
  },
  {
   "cell_type": "code",
   "execution_count": null,
   "metadata": {},
   "outputs": [],
   "source": [
    "# statsmodelsを使用してモデルをフィッティングします\n",
    "\n",
    "params = {'b_0': 1,\n",
    "          'b_1': 1,\n",
    "          'b_2': 1,\n",
    "          'sigma': 5\n",
    "          }\n",
    "rsample = generate_sample_2d(params,nsample=100)\n",
    "\n",
    "# 定数に相当する列をデータに付加\n",
    "x = sm.add_constant(rsample[:,1:])\n",
    "\n",
    "mod = sm.OLS(rsample[:,0], x)\n",
    "res = mod.fit()\n",
    "\n",
    "print(res.summary())"
   ]
  },
  {
   "cell_type": "code",
   "execution_count": null,
   "metadata": {},
   "outputs": [],
   "source": [
    "# 多重共線性ありの場合のサンプル生成\n",
    "\n",
    "params = {'b_0': 1,\n",
    "          'b_1': 1,\n",
    "          'b_2': 1,\n",
    "          'sigma': 5,\n",
    "          'sigma_collin': 2,\n",
    "          'b_1_collin': 1\n",
    "          }\n",
    "\n",
    "fig, ax = plt.subplots(1,2,figsize=[8,4],sharex=True,sharey=True)\n",
    "rsample_1 = generate_sample_2d(params)\n",
    "rsample_2 = generate_sample_2d(params,collinear=True)\n",
    "\n",
    "ax[0].scatter(rsample_1[:,1],rsample_1[:,2])\n",
    "ax[0].set_xlabel('x_1')\n",
    "ax[0].set_ylabel('x_2')\n",
    "ax[0].set_title('without collinearity')\n",
    "ax[1].scatter(rsample_2[:,1],rsample_2[:,2])\n",
    "ax[1].set_title('with collinearity')\n",
    "plt.show()"
   ]
  },
  {
   "cell_type": "code",
   "execution_count": null,
   "metadata": {},
   "outputs": [],
   "source": [
    "# 3d plot\n",
    "\n",
    "from mpl_toolkits.mplot3d import Axes3D\n",
    "\n",
    "fig = plt.figure(figsize=[10,4]) \n",
    "ax1 = fig.add_subplot(121, projection='3d')\n",
    "ax2 = fig.add_subplot(122, projection='3d')\n",
    "ax1.scatter(rsample_1[:,1],rsample_1[:,2],rsample_1[:,0])\n",
    "ax1.set_title('without collinearity')\n",
    "ax2.scatter(rsample_2[:,1],rsample_2[:,2],rsample_2[:,0])\n",
    "ax2.set_title('with collinearity')\n",
    "plt.show()"
   ]
  },
  {
   "cell_type": "code",
   "execution_count": null,
   "metadata": {},
   "outputs": [],
   "source": [
    "# 多重共線性が認められるデータに対するモデル当てはめ\n",
    "\n",
    "params = {'b_0': 1,\n",
    "          'b_1': 1,\n",
    "          'b_2': 1,\n",
    "          'sigma': 5,\n",
    "          'sigma_collin': 0.5,\n",
    "          'b_1_collin': 1\n",
    "          }\n",
    "\n",
    "rsample = generate_sample_2d(params,nsample=100,collinear=True)\n",
    "x = sm.add_constant(rsample[:,1:])\n",
    "mod = sm.OLS(rsample[:,0], x)\n",
    "res = mod.fit()\n",
    "\n",
    "print(res.summary())"
   ]
  },
  {
   "cell_type": "code",
   "execution_count": null,
   "metadata": {},
   "outputs": [],
   "source": [
    "params = {'b_0': 3,\n",
    "          'b_1': 2.5,\n",
    "          'b_2': 1.2,\n",
    "          'sigma': 7,\n",
    "          'sigma_collin': 1,\n",
    "          'b_1_collin': 1\n",
    "          }\n",
    "\n",
    "# sigmaを0.1ずつ変化させる\n",
    "sigma_ = np.linspace(0.1,5,50)\n",
    "\n",
    "# 空の配列を作成しておく\n",
    "r_2 = np.zeros([len(sigma_),1]) \n",
    "b_2_se = np.zeros([len(sigma_),1])\n",
    "\n",
    "# sigmaの数だけループを回す\n",
    "for i,s in enumerate(sigma_):\n",
    "    \n",
    "    # sigmaをループごとに変化させていく\n",
    "    params['sigma_collin'] = s\n",
    "    \n",
    "    # モデルフィッティング\n",
    "    rsample = generate_sample_2d(params,nsample=100,collinear=True)\n",
    "    x = sm.add_constant(rsample[:,1:])\n",
    "    mod = sm.OLS(rsample[:,0], x)\n",
    "    res = mod.fit()\n",
    "    \n",
    "    # 決定係数と回帰係数\n",
    "    r_2[i] = res.rsquared\n",
    "    b_2_se[i] = res.bse[1]\n",
    "    \n",
    "# プロット\n",
    "plt.plot(sigma_,b_2_se)\n",
    "plt.axhline(y=0.2, color='r', linestyle='--')\n",
    "plt.xlabel('sigma')\n",
    "plt.ylabel('SE of b1')\n",
    "plt.legend(['with collinearity','without collinearity'])\n",
    "plt.show()\n",
    "\n",
    "plt.plot(sigma_,r_2)\n",
    "plt.xlabel('sigma')\n",
    "plt.ylabel('r-squared')\n",
    "plt.show()"
   ]
  }
 ],
 "metadata": {
  "kernelspec": {
   "display_name": "Python 3",
   "language": "python",
   "name": "python3"
  },
  "language_info": {
   "codemirror_mode": {
    "name": "ipython",
    "version": 3
   },
   "file_extension": ".py",
   "mimetype": "text/x-python",
   "name": "python",
   "nbconvert_exporter": "python",
   "pygments_lexer": "ipython3",
   "version": "3.7.1"
  },
  "toc": {
   "base_numbering": 1,
   "nav_menu": {},
   "number_sections": false,
   "sideBar": true,
   "skip_h1_title": false,
   "title_cell": "Table of Contents",
   "title_sidebar": "Contents",
   "toc_cell": false,
   "toc_position": {},
   "toc_section_display": true,
   "toc_window_display": true
  },
  "varInspector": {
   "cols": {
    "lenName": 16,
    "lenType": 16,
    "lenVar": 40
   },
   "kernels_config": {
    "python": {
     "delete_cmd_postfix": "",
     "delete_cmd_prefix": "del ",
     "library": "var_list.py",
     "varRefreshCmd": "print(var_dic_list())"
    },
    "r": {
     "delete_cmd_postfix": ") ",
     "delete_cmd_prefix": "rm(",
     "library": "var_list.r",
     "varRefreshCmd": "cat(var_dic_list()) "
    }
   },
   "types_to_exclude": [
    "module",
    "function",
    "builtin_function_or_method",
    "instance",
    "_Feature"
   ],
   "window_display": false
  }
 },
 "nbformat": 4,
 "nbformat_minor": 2
}
