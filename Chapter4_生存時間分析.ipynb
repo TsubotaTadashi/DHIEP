{
 "cells": [
  {
   "cell_type": "markdown",
   "metadata": {},
   "source": [
    "### ----------------------------------------------------------------------------------------------------------\n",
    "## 社会変革型 医療データサイエンティスト育成講座\n",
    "# Chapter 4: 生存時間分析とCox比例ハザードモデル\n",
    "### ----------------------------------------------------------------------------------------------------------"
   ]
  },
  {
   "cell_type": "code",
   "execution_count": null,
   "metadata": {},
   "outputs": [],
   "source": [
    "# データとライブラリの準備\n",
    "\n",
    "from lifelines import datasets, KaplanMeierFitter\n",
    "from lifelines.plotting import plot_lifetimes\n",
    "\n",
    "# lifelinesに入っているデータセットを使用します\n",
    "gbsg2_data = datasets.load_gbsg2()\n",
    "gbsg2_data.head()"
   ]
  },
  {
   "cell_type": "markdown",
   "metadata": {},
   "source": [
    "## German Breast Cancer Study Group 2\n",
    "contains the observations of 686 women  \n",
    "http://ugrad.stat.ubc.ca/R/library/ipred/html/GBSG2.html\n",
    "\n",
    "| column name | variables |\n",
    "|:---------|:----------|\n",
    "| horTh | hormonal therapy, a factor at two levels no and yes |\n",
    "| age | of the patients in years |\n",
    "| menostat | menopausal status, a factor at two levels pre (premenopausal) and post (postmenopausal) |\n",
    "| tsize | tumor size (in mm) |\n",
    "| tgrade | tumor grade, a ordered factor at levels I < II < III |\n",
    "| pnodes | number of positive nodes |\n",
    "| progrec | progesterone receptor (in fmol) |\n",
    "| estrec | estrogen receptor (in fmol) |\n",
    "| time | recurrence free survival time (in days) | \n",
    "| cens | censoring indicator (0- censored, 1- event) | "
   ]
  },
  {
   "cell_type": "code",
   "execution_count": null,
   "metadata": {},
   "outputs": [],
   "source": [
    "# timeデータの可視化\n",
    "import matplotlib.pyplot as plt\n",
    "%matplotlib inline\n",
    "\n",
    "time = gbsg2_data['time']\n",
    "event = gbsg2_data['cens']\n",
    "\n",
    "time_sorted = time.sort_values().values\n",
    "plot_lifetimes(time_sorted[:50], event_observed=event[:50])\n",
    "plt.xlabel('time (days)')\n",
    "plt.show()"
   ]
  },
  {
   "cell_type": "code",
   "execution_count": null,
   "metadata": {},
   "outputs": [],
   "source": [
    "# Kaplan-meier曲線の描画\n",
    "\n",
    "# sklearnと同じくまずインスタンスの作成\n",
    "kmf = KaplanMeierFitter()\n",
    "\n",
    "# 生存時間を表すtimeデータと、\n",
    "kmf.fit(time, event_observed=event)\n",
    "\n",
    "kmf.plot(ci_show=False)\n",
    "plt.title('Survival function')\n",
    "plt.xlabel('time (days)')\n",
    "plt.show()"
   ]
  },
  {
   "cell_type": "code",
   "execution_count": null,
   "metadata": {},
   "outputs": [],
   "source": [
    "# ホルモン療法の有無で比較\n",
    "\n",
    "ax = plt.subplot(111)\n",
    "\n",
    "# ホルモン治療ありの被験者のインデックスを抽出します\n",
    "therapy = (gbsg2_data[\"horTh\"] == \"yes\")\n",
    "\n",
    "# timeデータの中でホルモン治療ありのインデックスを指定します\n",
    "kmf.fit(time[therapy], event_observed=event[therapy], label=\"with hormonal therapy\")\n",
    "kmf.plot(ax=ax,ci_show=False)\n",
    "\n",
    "# ~therapyとすることで、ホルモン治療なしのインデックスを指定します\n",
    "kmf.fit(time[~therapy], event_observed=event[~therapy], label=\"No therapy\")\n",
    "kmf.plot(ax=ax,ci_show=False)\n",
    "\n",
    "plt.ylim(0, 1)\n",
    "plt.xlabel('time (days)')\n",
    "plt.title(\"Survival time in GBSG2 data\")\n",
    "plt.show()"
   ]
  },
  {
   "cell_type": "code",
   "execution_count": null,
   "metadata": {},
   "outputs": [],
   "source": [
    "# log-rank検定\n",
    "\n",
    "from lifelines.statistics import logrank_test\n",
    "\n",
    "results = logrank_test(time[therapy], time[~therapy], event[therapy], event[~therapy], alpha=.99)\n",
    "results.print_summary()"
   ]
  },
  {
   "cell_type": "code",
   "execution_count": null,
   "metadata": {},
   "outputs": [],
   "source": [
    "# cox比例ハザードモデル\n",
    "import pandas as pd\n",
    "from lifelines import CoxPHFitter\n",
    "\n",
    "# インスタンスを作成します\n",
    "cph = CoxPHFitter()\n",
    "\n",
    "# カテゴリ変数をダミー化します\n",
    "gbsg2_data_dm = pd.get_dummies(gbsg2_data,columns=['horTh','menostat','tgrade'],drop_first=True)\n",
    "\n",
    "cph.fit(gbsg2_data_dm, duration_col='time', event_col='cens', show_progress=True)\n",
    "cph.print_summary()\n",
    "cph.plot()"
   ]
  },
  {
   "cell_type": "code",
   "execution_count": null,
   "metadata": {},
   "outputs": [],
   "source": [
    "# （参考） Schoenfeld残差を用いた比例ハザード性の検証\n",
    "cph.check_assumptions(gbsg2_data_dm, p_value_threshold=0.05, show_plots=False)"
   ]
  }
 ],
 "metadata": {
  "kernelspec": {
   "display_name": "Python 3",
   "language": "python",
   "name": "python3"
  },
  "language_info": {
   "codemirror_mode": {
    "name": "ipython",
    "version": 3
   },
   "file_extension": ".py",
   "mimetype": "text/x-python",
   "name": "python",
   "nbconvert_exporter": "python",
   "pygments_lexer": "ipython3",
   "version": "3.7.1"
  },
  "toc": {
   "base_numbering": 1,
   "nav_menu": {},
   "number_sections": false,
   "sideBar": true,
   "skip_h1_title": false,
   "title_cell": "Table of Contents",
   "title_sidebar": "Contents",
   "toc_cell": false,
   "toc_position": {},
   "toc_section_display": true,
   "toc_window_display": true
  },
  "varInspector": {
   "cols": {
    "lenName": 16,
    "lenType": 16,
    "lenVar": 40
   },
   "kernels_config": {
    "python": {
     "delete_cmd_postfix": "",
     "delete_cmd_prefix": "del ",
     "library": "var_list.py",
     "varRefreshCmd": "print(var_dic_list())"
    },
    "r": {
     "delete_cmd_postfix": ") ",
     "delete_cmd_prefix": "rm(",
     "library": "var_list.r",
     "varRefreshCmd": "cat(var_dic_list()) "
    }
   },
   "types_to_exclude": [
    "module",
    "function",
    "builtin_function_or_method",
    "instance",
    "_Feature"
   ],
   "window_display": false
  }
 },
 "nbformat": 4,
 "nbformat_minor": 2
}
