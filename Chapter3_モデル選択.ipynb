{
 "cells": [
  {
   "cell_type": "markdown",
   "metadata": {},
   "source": [
    "### ----------------------------------------------------------------------------------------------------------\n",
    "## 社会変革型 医療データサイエンティスト育成講座\n",
    "# Chapter 3: モデル選択\n",
    "### ----------------------------------------------------------------------------------------------------------"
   ]
  },
  {
   "cell_type": "markdown",
   "metadata": {},
   "source": [
    "#### 1. データの準備・前処理"
   ]
  },
  {
   "cell_type": "code",
   "execution_count": null,
   "metadata": {},
   "outputs": [],
   "source": [
    "# データのロード\n",
    "import pandas as pd\n",
    "bace_data = pd.read_csv(\"~/bace_data.csv\")\n",
    "bace_data.head()"
   ]
  },
  {
   "cell_type": "code",
   "execution_count": null,
   "metadata": {},
   "outputs": [],
   "source": [
    "import numpy as np\n",
    "\n",
    "# 今回は説明変数をすべて使用します！\n",
    "X = np.array(bace_data.iloc[:,1:-2])\n",
    "y = np.array(bace_data[['pIC50']])"
   ]
  },
  {
   "cell_type": "code",
   "execution_count": null,
   "metadata": {},
   "outputs": [],
   "source": [
    "# 頻用される関数である\"train_test_split\"を用いて、データを訓練用と評価用に分割します\n",
    "# test_size=1/4とすることで、train:test = 3:1 となります。もちろん比は変更可能です\n",
    "\n",
    "# データの中からランダムにtrain用とtest用をピックアップしてくれるのですが、セルを実行するたびに\n",
    "# データが毎回変わってしまうと不便な場合もあります。そこで\"random_state=1\"とすることで、\n",
    "# 毎回同じ分割をするよう指定することができます。数字を変えることで異なる分割が得られます\n",
    "\n",
    "from sklearn.model_selection import train_test_split\n",
    "X_train, X_test, y_train, y_test = train_test_split(X,y,test_size=1/4, \n",
    "                                                    random_state=1)\n",
    "\n",
    "# data shapeを確認しておきます。正しく分割されていることがわかります\n",
    "print(X_train.shape)\n",
    "print(X_test.shape)"
   ]
  },
  {
   "cell_type": "code",
   "execution_count": null,
   "metadata": {},
   "outputs": [],
   "source": [
    "# こちらも頻用される関数である\"StandardScaler\"を用いて、データの標準化を行います\n",
    "from sklearn.preprocessing import StandardScaler\n",
    "\n",
    "# インスタンスを作成します\n",
    "scaler = StandardScaler()\n",
    "\n",
    "# train dataでscalerを作成し、同じscalerをtestに対しても適用します\n",
    "X_train_st = scaler.fit_transform(X_train)\n",
    "X_test_st = scaler.transform(X_test)"
   ]
  },
  {
   "cell_type": "markdown",
   "metadata": {},
   "source": [
    "　"
   ]
  },
  {
   "cell_type": "markdown",
   "metadata": {},
   "source": [
    "#### 2. 交差検証"
   ]
  },
  {
   "cell_type": "code",
   "execution_count": null,
   "metadata": {},
   "outputs": [],
   "source": [
    "# sklearnのcross_val_scoreを使用してモデルの評価を行います\n",
    "from sklearn.linear_model import LinearRegression\n",
    "from sklearn.model_selection import cross_val_score\n",
    "\n",
    "# インスタンスを作成します\n",
    "model = LinearRegression()\n",
    "\n",
    "# modelとデータををcross_val_scoreに投入するだけで交差検証を行ってくれます\n",
    "# cv=5は5-fold cross-validationを行うという意味です。もちろん他の数字も指定可能です\n",
    "# scoringでは、評価指標を指定できます\n",
    "cv_score = cross_val_score(model, X_train_st, y_train, cv=5, scoring='neg_mean_absolute_error')\n",
    "\n",
    "# 最後に計算されたスコアを表示します\n",
    "print('cv scores: ', cv_score)\n",
    "print('mean score: ', cv_score.mean())"
   ]
  },
  {
   "cell_type": "code",
   "execution_count": null,
   "metadata": {},
   "outputs": [],
   "source": [
    "# 使用可能な評価関数一覧\n",
    "import sklearn\n",
    "sorted(sklearn.metrics.SCORERS.keys())"
   ]
  },
  {
   "cell_type": "markdown",
   "metadata": {},
   "source": [
    "　"
   ]
  },
  {
   "cell_type": "markdown",
   "metadata": {},
   "source": [
    "#### 4. 変数選択"
   ]
  },
  {
   "cell_type": "code",
   "execution_count": null,
   "metadata": {},
   "outputs": [],
   "source": [
    "# 正則化なしの線形回帰モデルによるfitting\n",
    "from sklearn.linear_model import LinearRegression\n",
    "linModel = LinearRegression()\n",
    "linModel.fit(X_train_st,y_train)"
   ]
  },
  {
   "cell_type": "code",
   "execution_count": null,
   "metadata": {},
   "outputs": [],
   "source": [
    "# 評価用データのX_testからy_testを予測\n",
    "y_pred = linModel.predict(X_test_st)"
   ]
  },
  {
   "cell_type": "code",
   "execution_count": null,
   "metadata": {},
   "outputs": [],
   "source": [
    "# 評価用データへの当てはまりの指標としてMSEを計算\n",
    "from sklearn.metrics import mean_squared_error\n",
    "mean_squared_error(y_test, y_pred)"
   ]
  },
  {
   "cell_type": "code",
   "execution_count": null,
   "metadata": {},
   "outputs": [],
   "source": [
    "# Lassoによるfitting\n",
    "from sklearn.linear_model import Lasso\n",
    "lassoModel = Lasso()\n",
    "lassoModel.fit(X_train_st,y_train)"
   ]
  },
  {
   "cell_type": "code",
   "execution_count": null,
   "metadata": {},
   "outputs": [],
   "source": [
    "# Lassoの予測精度を計算\n",
    "y_pred_lasso = lassoModel.predict(X_test_st)\n",
    "mean_squared_error(y_test, y_pred_lasso)"
   ]
  },
  {
   "cell_type": "code",
   "execution_count": null,
   "metadata": {},
   "outputs": [],
   "source": [
    "# Ridgeによるfitting\n",
    "from sklearn.linear_model import Ridge\n",
    "ridgeModel = Ridge()\n",
    "ridgeModel.fit(X_train_st, y_train)"
   ]
  },
  {
   "cell_type": "code",
   "execution_count": null,
   "metadata": {},
   "outputs": [],
   "source": [
    "# Ridgeの予測精度を計算\n",
    "y_pred_ridge = ridgeModel.predict(X_test_st)\n",
    "mean_squared_error(y_test, y_pred_ridge)"
   ]
  },
  {
   "cell_type": "code",
   "execution_count": null,
   "metadata": {},
   "outputs": [],
   "source": [
    "# Ridgeで最適ハイパーパラメータ探索\n",
    "from sklearn.linear_model import RidgeCV\n",
    "ridgeModel_cv = RidgeCV()\n",
    "ridgeModel_cv.fit(X_train_st,y_train)"
   ]
  },
  {
   "cell_type": "code",
   "execution_count": null,
   "metadata": {},
   "outputs": [],
   "source": [
    "# RidgeCVの予測精度を計算\n",
    "y_pred_ridgecv = ridgeModel_cv.predict(X_test_st)\n",
    "mean_squared_error(y_test, y_pred_ridgecv)"
   ]
  }
 ],
 "metadata": {
  "kernelspec": {
   "display_name": "Python 3",
   "language": "python",
   "name": "python3"
  },
  "language_info": {
   "codemirror_mode": {
    "name": "ipython",
    "version": 3
   },
   "file_extension": ".py",
   "mimetype": "text/x-python",
   "name": "python",
   "nbconvert_exporter": "python",
   "pygments_lexer": "ipython3",
   "version": "3.7.1"
  },
  "toc": {
   "base_numbering": 1,
   "nav_menu": {},
   "number_sections": false,
   "sideBar": true,
   "skip_h1_title": false,
   "title_cell": "Table of Contents",
   "title_sidebar": "Contents",
   "toc_cell": false,
   "toc_position": {},
   "toc_section_display": true,
   "toc_window_display": true
  },
  "varInspector": {
   "cols": {
    "lenName": 16,
    "lenType": 16,
    "lenVar": 40
   },
   "kernels_config": {
    "python": {
     "delete_cmd_postfix": "",
     "delete_cmd_prefix": "del ",
     "library": "var_list.py",
     "varRefreshCmd": "print(var_dic_list())"
    },
    "r": {
     "delete_cmd_postfix": ") ",
     "delete_cmd_prefix": "rm(",
     "library": "var_list.r",
     "varRefreshCmd": "cat(var_dic_list()) "
    }
   },
   "types_to_exclude": [
    "module",
    "function",
    "builtin_function_or_method",
    "instance",
    "_Feature"
   ],
   "window_display": false
  }
 },
 "nbformat": 4,
 "nbformat_minor": 2
}
